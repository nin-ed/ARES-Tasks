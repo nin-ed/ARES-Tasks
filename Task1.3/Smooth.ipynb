{
 "cells": [
  {
   "cell_type": "code",
   "execution_count": 3,
   "metadata": {},
   "outputs": [],
   "source": [
    "import cv2\n",
    "\n",
    "im = cv2.imread('pic.jpg',cv2.IMREAD_COLOR)"
   ]
  },
  {
   "cell_type": "code",
   "execution_count": 8,
   "metadata": {},
   "outputs": [],
   "source": [
    "#Average Filter\n",
    "avg = cv2.blur(im,(5,5))\n",
    "\n",
    "#Gaussian Filter\n",
    "gau = cv2.GaussianBlur(im,(5,5),0)\n",
    "\n",
    "#Median Filter\n",
    "med = cv2.medianBlur(im,5)\n",
    "\n",
    "#Bilateral Filter\n",
    "bil = cv2.bilateralFilter(im,10,110,110)"
   ]
  },
  {
   "cell_type": "code",
   "execution_count": 9,
   "metadata": {},
   "outputs": [],
   "source": [
    "cv2.imshow('Original',im)\n",
    "cv2.imshow('Average',avg)\n",
    "cv2.imshow('Gaussian',gau)\n",
    "cv2.imshow('Median',med)\n",
    "cv2.imshow('Bilateral',bil)\n",
    "cv2.waitKey(0)&0xFF\n",
    "cv2.destroyAllWindows()"
   ]
  },
  {
   "cell_type": "code",
   "execution_count": null,
   "metadata": {},
   "outputs": [],
   "source": []
  }
 ],
 "metadata": {
  "kernelspec": {
   "display_name": "Python 3",
   "language": "python",
   "name": "python3"
  },
  "language_info": {
   "codemirror_mode": {
    "name": "ipython",
    "version": 3
   },
   "file_extension": ".py",
   "mimetype": "text/x-python",
   "name": "python",
   "nbconvert_exporter": "python",
   "pygments_lexer": "ipython3",
   "version": "3.7.2"
  }
 },
 "nbformat": 4,
 "nbformat_minor": 1
}
