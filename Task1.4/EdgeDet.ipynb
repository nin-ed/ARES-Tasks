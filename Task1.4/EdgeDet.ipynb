{
 "cells": [
  {
   "cell_type": "code",
   "execution_count": 1,
   "metadata": {},
   "outputs": [],
   "source": [
    "import cv2\n",
    "\n",
    "def func(x):\n",
    "    pass"
   ]
  },
  {
   "cell_type": "code",
   "execution_count": 2,
   "metadata": {},
   "outputs": [],
   "source": [
    "im = cv2.imread('pic.jpg',cv2.IMREAD_COLOR)"
   ]
  },
  {
   "cell_type": "code",
   "execution_count": 3,
   "metadata": {},
   "outputs": [],
   "source": [
    "cv2.namedWindow('Output')\n",
    "\n",
    "#Creating Trackbar to adjust minimum threshold value\n",
    "cv2.createTrackbar('Min','Output',0,255,func)\n",
    "\n",
    "#Creating Trackbar to adjust maximum threshold value\n",
    "cv2.createTrackbar('Max','Output',0,255,func)\n",
    "\n",
    "cv2.imshow('Original',im)\n",
    "\n",
    "while 1:\n",
    "    #Gets the value of trackbar 'Min'\n",
    "    n = cv2.getTrackbarPos('Min','Output')\n",
    "    \n",
    "    #Gets the value of trackbar 'Max'\n",
    "    n1 = cv2.getTrackbarPos('Max','Output')\n",
    "    \n",
    "    can = cv2.Canny(im,n,n1)\n",
    "    cv2.imshow('Output',can)\n",
    "    k = cv2.waitKey(1) & 0xFF\n",
    "    if k==81 or k==113:\n",
    "        break"
   ]
  },
  {
   "cell_type": "code",
   "execution_count": 4,
   "metadata": {},
   "outputs": [],
   "source": [
    "cv2.destroyAllWindows()"
   ]
  },
  {
   "cell_type": "code",
   "execution_count": null,
   "metadata": {},
   "outputs": [],
   "source": []
  }
 ],
 "metadata": {
  "kernelspec": {
   "display_name": "Python 3",
   "language": "python",
   "name": "python3"
  },
  "language_info": {
   "codemirror_mode": {
    "name": "ipython",
    "version": 3
   },
   "file_extension": ".py",
   "mimetype": "text/x-python",
   "name": "python",
   "nbconvert_exporter": "python",
   "pygments_lexer": "ipython3",
   "version": "3.7.2"
  }
 },
 "nbformat": 4,
 "nbformat_minor": 1
}
